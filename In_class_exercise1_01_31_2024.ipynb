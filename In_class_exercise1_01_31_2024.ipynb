{
  "cells": [
    {
      "cell_type": "markdown",
      "metadata": {
        "id": "view-in-github",
        "colab_type": "text"
      },
      "source": [
        "<a href=\"https://colab.research.google.com/github/HarishChinnakadiri/Harish_INFO5731_Spring2024/blob/main/In_class_exercise1_01_31_2024.ipynb\" target=\"_parent\"><img src=\"https://colab.research.google.com/assets/colab-badge.svg\" alt=\"Open In Colab\"/></a>"
      ]
    },
    {
      "cell_type": "markdown",
      "metadata": {
        "id": "DymRJbxDBCnf"
      },
      "source": [
        "# **This first In-class-exercise cover a variety of fundamental concepts in Python and are designed to help individuals improve their coding skills and problem-solving abilities.**\n",
        "\n",
        "The submission is due on 01/31/2024 11:59 PM. This submission is worth 40 points in total.\n"
      ]
    },
    {
      "cell_type": "markdown",
      "source": [
        "(1) Write a Python program that  prompts the user to input the length and width of a rectangle, and then calculates and displays the area of the rectangle."
      ],
      "metadata": {
        "id": "FBKvD6O_TY6e"
      }
    },
    {
      "cell_type": "code",
      "source": [
        "# write your answer here\n",
        "length = int(input('Length : '))\n",
        "width = int(input('Width : '))\n",
        "area = length * width\n",
        "print(area)\n"
      ],
      "metadata": {
        "id": "cikVKDXdTbzE",
        "colab": {
          "base_uri": "https://localhost:8080/"
        },
        "outputId": "9dc8ab83-5067-4e01-af98-f3c6b90e9ce5"
      },
      "execution_count": 2,
      "outputs": [
        {
          "output_type": "stream",
          "name": "stdout",
          "text": [
            "Length : 10\n",
            "Width : 9\n",
            "90\n"
          ]
        }
      ]
    },
    {
      "cell_type": "markdown",
      "source": [
        "(2) Create a Python program that interactively takes two numerical inputs from the user and swaps their values without utilizing an extra variable."
      ],
      "metadata": {
        "id": "E9RqrlwdTfvl"
      }
    },
    {
      "cell_type": "code",
      "source": [
        "# write your answer here\n",
        "a = int(input('Enter value of a : '))\n",
        "b = int(input('Enter value of b : '))\n",
        "a = a + b\n",
        "b = a - b\n",
        "a = a-b\n",
        "print('Vlaue of a After : ', a)\n",
        "print('Value of b After : ', b)"
      ],
      "metadata": {
        "id": "4XvRknixTh1g",
        "colab": {
          "base_uri": "https://localhost:8080/"
        },
        "outputId": "d27b7822-2592-4f19-de03-0064cfb480ec"
      },
      "execution_count": 7,
      "outputs": [
        {
          "output_type": "stream",
          "name": "stdout",
          "text": [
            "Enter value of a : 5\n",
            "Enter value of b : 6\n",
            "Vlaue of a After :  6\n",
            "Value of b After :  5\n"
          ]
        }
      ]
    },
    {
      "cell_type": "markdown",
      "metadata": {
        "id": "03jb4GZsBkBS"
      },
      "source": [
        "(3) Write a Python script to determine and print the length of a user-input string."
      ]
    },
    {
      "cell_type": "code",
      "execution_count": 10,
      "metadata": {
        "id": "YaGLbSHHB8Ej",
        "colab": {
          "base_uri": "https://localhost:8080/"
        },
        "outputId": "c067526a-4eed-4773-aeb5-3d292961ac4c"
      },
      "outputs": [
        {
          "output_type": "stream",
          "name": "stdout",
          "text": [
            "Hello World\n",
            "Length of the string :  11\n"
          ]
        }
      ],
      "source": [
        "# write your answer here\n",
        "string = input()\n",
        "print('Length of the string : ' , len(string))"
      ]
    },
    {
      "cell_type": "markdown",
      "metadata": {
        "id": "jJDe71iLB616"
      },
      "source": [
        "(4) Construct a Python program that counts and displays the occurrences of each character in a given string.\n",
        "\n",
        "Sample String: 'openai.ai',\n",
        "\n",
        "Expected Result: {'a': 2, 'i': 2, '.': 1, 'o': 1, 'p': 1, 'e': 1, 'n': 1}"
      ]
    },
    {
      "cell_type": "code",
      "execution_count": 14,
      "metadata": {
        "id": "MtKskTzbCLaU",
        "colab": {
          "base_uri": "https://localhost:8080/"
        },
        "outputId": "8e2cd8d4-3de0-474e-f5c2-a270763733f8"
      },
      "outputs": [
        {
          "output_type": "stream",
          "name": "stdout",
          "text": [
            "Enter a string: Happy Holidays\n",
            "{'H': 2, 'a': 2, 'p': 2, 'y': 2, ' ': 1, 'o': 1, 'l': 1, 'i': 1, 'd': 1, 's': 1}\n"
          ]
        }
      ],
      "source": [
        "def count_characters(s):\n",
        "    # Create an empty dictionary to store character counts\n",
        "    char_count = {}\n",
        "\n",
        "    # Loop through each character in the string\n",
        "    for char in s:\n",
        "        # If the character is already in the dictionary, increment its count\n",
        "        if char in char_count:\n",
        "            char_count[char] += 1\n",
        "        # If the character is not in the dictionary, add it with a count of 1\n",
        "        else:\n",
        "            char_count[char] = 1\n",
        "\n",
        "    # Return the dictionary containing character counts\n",
        "    return char_count\n",
        "\n",
        "# The following lines are for user input.\n",
        "\n",
        "# Prompt the user to enter a string\n",
        "user_input = input(\"Enter a string: \")\n",
        "\n",
        "#Call the count_characters function with the user's string\n",
        "result = count_characters(user_input)\n",
        "\n",
        "#Print the resulting dictionary of character counts\n",
        "print(result)\n"
      ]
    },
    {
      "cell_type": "markdown",
      "metadata": {
        "id": "55W9AMdXCSpV"
      },
      "source": [
        "(5) Design a Python code to calculate the sum of all elements in a user-provided list."
      ]
    },
    {
      "cell_type": "code",
      "execution_count": 20,
      "metadata": {
        "id": "I57NXsauCec2",
        "colab": {
          "base_uri": "https://localhost:8080/"
        },
        "outputId": "f2753757-d15e-431b-b510-09d6ba2a9ac8"
      },
      "outputs": [
        {
          "output_type": "stream",
          "name": "stdout",
          "text": [
            "Enter a list of numbers separated by spaces: 1 2 3 4 5 6 7 8 9 10 12 32 34 65\n",
            "The sum of all elements in the list is: 198\n"
          ]
        }
      ],
      "source": [
        "def calculate_sum(lst):\n",
        "    \"\"\"\n",
        "    Function to calculate the sum of all elements in a list.\n",
        "    :param lst: List of numbers (integers or floats).\n",
        "    :return: Sum of the elements in the list.\n",
        "    \"\"\"\n",
        "    # Using the built-in sum function to calculate the total sum of the list\n",
        "    total = sum(lst)\n",
        "    return total\n",
        "\n",
        "\n",
        "\n",
        "# Code for user input. Uncomment the following lines to run in your environment.\n",
        "# The user will be prompted to enter a list of numbers, separated by commas.\n",
        "\n",
        "# Code for user input\n",
        "user_input = input(\"Enter a list of numbers separated by spaces: \")\n",
        "user_list = user_input.split(' ')  # Split the string at spaces\n",
        "user_list = [int(i) for i in user_list]  # Convert each element to an integer\n",
        "\n",
        "# Calculate the sum\n",
        "sum_of_elements = calculate_sum(user_list)\n",
        "\n",
        "# Print the sum\n",
        "print(f\"The sum of all elements in the list is: {sum_of_elements}\")\n",
        "\n"
      ]
    },
    {
      "cell_type": "markdown",
      "metadata": {
        "id": "4ulBZ6yhCi9F"
      },
      "source": [
        "(6) Write a Python program that modifies a given string by replacing all occurrences of its first character with '$', excluding the first character itself.\n",
        "\n",
        "\n",
        "Sample String : 'restart‘,\n",
        "\n",
        "Expected Result : 'resta\\$t'"
      ]
    },
    {
      "cell_type": "code",
      "execution_count": 24,
      "metadata": {
        "id": "Fj0XhwbBCw2o",
        "colab": {
          "base_uri": "https://localhost:8080/"
        },
        "outputId": "a18891ce-fdb1-4a7c-b809-e81efb18402a"
      },
      "outputs": [
        {
          "output_type": "stream",
          "name": "stdout",
          "text": [
            "Enter a string: ELEPHANT\n",
            "Modified String: EL$PHANT\n"
          ]
        }
      ],
      "source": [
        "def modify_string(original_string):\n",
        "\n",
        "    # Check if the string is empty or has only one character\n",
        "    if len(original_string) < 2:\n",
        "        return original_string  # Return the original string as no modification is needed\n",
        "\n",
        "    # Extract the first character\n",
        "    first_char = original_string[0]\n",
        "\n",
        "    # Extract the rest of the string excluding the first character\n",
        "    remaining_string = original_string[1:]\n",
        "\n",
        "    # Replace occurrences of the first character in the remaining string with '$'\n",
        "    modified_remaining_string = remaining_string.replace(first_char, '$')\n",
        "\n",
        "    # Concatenate the first character with the modified remaining string\n",
        "    modified_string = first_char + modified_remaining_string\n",
        "\n",
        "    return modified_string\n",
        "\n",
        "# take user input and use the function\n",
        "user_input = input(\"Enter a string: \")\n",
        "print(\"Modified String:\", modify_string(user_input))\n",
        "\n"
      ]
    },
    {
      "cell_type": "markdown",
      "source": [
        "(7) Write a Python program using a while loop to compute the factorial of a user-supplied number."
      ],
      "metadata": {
        "id": "qVXA3q7ET5JI"
      }
    },
    {
      "cell_type": "code",
      "source": [
        "# write your answer here\n",
        "def factorial(n):\n",
        "\n",
        "    # Check if the number is negative, zero or one\n",
        "    if n < 0:\n",
        "        return \"Factorial not defined for negative numbers.\"\n",
        "    elif n == 0 or n == 1:\n",
        "        return 1  # Factorial of 0 and 1 is 1\n",
        "\n",
        "    # Initialize result to 1 (factorial starts with 1)\n",
        "    result = 1\n",
        "\n",
        "    # Loop to multiply the result by each number from 2 to n\n",
        "    while n > 1:\n",
        "        result *= n  # Multiply the result by the current number\n",
        "        n -= 1       # Decrement n by 1\n",
        "\n",
        "    # Return the final factorial result\n",
        "    return result\n",
        "\n",
        "# Uncomment the following lines to take user input and use the function\n",
        "user_input = int(input(\"Enter a number to calculate its factorial: \"))\n",
        "print(f\"The factorial of {user_input} is: {factorial(user_input)}\")\n",
        "\n",
        "\n"
      ],
      "metadata": {
        "id": "Lbt7R6UkT7BA",
        "colab": {
          "base_uri": "https://localhost:8080/"
        },
        "outputId": "e8f3cfa9-ce24-4e20-8546-8262e93273a6"
      },
      "execution_count": 25,
      "outputs": [
        {
          "output_type": "stream",
          "name": "stdout",
          "text": [
            "Enter a number to calculate its factorial: 6\n",
            "The factorial of 6 is: 720\n"
          ]
        }
      ]
    },
    {
      "cell_type": "markdown",
      "source": [
        "(8) Create a program that accepts a list of numbers as input and outputs a new list containing only the even numbers."
      ],
      "metadata": {
        "id": "6YfbzXMNT--R"
      }
    },
    {
      "cell_type": "code",
      "source": [
        "# write your answer here\n",
        "def filter_even_numbers(numbers_list):\n",
        "\n",
        "    # Initialize an empty list to store even numbers\n",
        "    even_numbers = []\n",
        "\n",
        "    # Iterate through each number in the input list\n",
        "    for number in numbers_list:\n",
        "        # Check if the number is even (divisible by 2 with no remainder)\n",
        "        if number % 2 == 0:\n",
        "            # If the number is even, add it to the even_numbers list\n",
        "            even_numbers.append(number)\n",
        "\n",
        "    # Return the list of even numbers\n",
        "    return even_numbers\n",
        "\n",
        "# user input and use the function\n",
        "user_input = input(\"Enter a list of numberS: \")\n",
        "# Convert the input string into a list of integers\n",
        "user_list = [int(i) for i in user_input.split(',')]\n",
        "# Call the function with the user input and print the result\n",
        "print(\"Even numbers:\", filter_even_numbers(user_list))\n",
        "\n"
      ],
      "metadata": {
        "id": "54q7wMQPUAKu",
        "colab": {
          "base_uri": "https://localhost:8080/"
        },
        "outputId": "3209fb6c-9209-454e-c613-9da257018882"
      },
      "execution_count": 26,
      "outputs": [
        {
          "output_type": "stream",
          "name": "stdout",
          "text": [
            "Enter a list of numberS: 1,2,3,4,5,6,7,8,9,10,11,22,34\n",
            "Even numbers: [2, 4, 6, 8, 10, 22, 34]\n"
          ]
        }
      ]
    },
    {
      "cell_type": "markdown",
      "metadata": {
        "id": "_bIP7s1MCzue"
      },
      "source": [
        "\n",
        "(9) Design a Python function to check if a number is prime.\n"
      ]
    },
    {
      "cell_type": "code",
      "execution_count": 27,
      "metadata": {
        "id": "w79QilHXD3Mg",
        "colab": {
          "base_uri": "https://localhost:8080/"
        },
        "outputId": "5a43d216-9d57-4124-abe2-c16ffb08a342"
      },
      "outputs": [
        {
          "output_type": "stream",
          "name": "stdout",
          "text": [
            "Enter a number to check if it is prime: 7\n",
            "The number 7 is prime.\n"
          ]
        }
      ],
      "source": [
        "def is_prime(n):\n",
        "\n",
        "    # A number less than 2 is not prime\n",
        "    if n < 2:\n",
        "        return False\n",
        "\n",
        "    # Only check for factors up to the square root of n\n",
        "    # This improves efficiency as larger factors are redundant\n",
        "    for i in range(2, int(n**0.5) + 1):\n",
        "        # If n is divisible by any number between 2 and sqrt(n), it's not prime\n",
        "        if n % i == 0:\n",
        "            return False\n",
        "\n",
        "    # If no factors found, n is prime\n",
        "    return True\n",
        "\n",
        "#  use this function with user input\n",
        "user_input = int(input(\"Enter a number to check if it is prime: \"))\n",
        "prime_status = is_prime(user_input)\n",
        "print(f\"The number {user_input} is {'prime' if prime_status else 'not prime'}.\")\n"
      ]
    },
    {
      "cell_type": "markdown",
      "metadata": {
        "id": "xCa2bK9aD4Q3"
      },
      "source": [
        "(10) Write a Python program to concatenate following dictionaries to create a new one.\n",
        "\n",
        "Sample Dictionary : dic1={1:10, 2:20}, dic2={3:30, 4:40}, dic3={5:50,6:60},\n",
        "\n",
        "Expected Result : {1: 10, 2: 20, 3: 30, 4: 40, 5: 50, 6: 60}\n"
      ]
    },
    {
      "cell_type": "code",
      "execution_count": 29,
      "metadata": {
        "id": "_z4aLqAbEET1",
        "colab": {
          "base_uri": "https://localhost:8080/"
        },
        "outputId": "c3026aa1-8045-45ff-fb4c-40cff8bbcd3c"
      },
      "outputs": [
        {
          "output_type": "stream",
          "name": "stdout",
          "text": [
            "Enter key-value pairs for first dictionary (format 'key1:value1, key2:value2'): 1:10 , 2:20 \n",
            "Enter key-value pairs for second dictionary (format 'key1:value1, key2:value2'): 3:30 , 4:40\n",
            "Enter key-value pairs for third dictionary (format 'key1:value1, key2:value2'): 5:50 , 6:60\n",
            "Concatenated Dictionary: {1: 10, 2: 20, 3: 30, 4: 40, 5: 50, 6: 60}\n"
          ]
        }
      ],
      "source": [
        "def concatenate_dictionaries(*dicts):\n",
        "\n",
        "    # Initialize an empty dictionary to store the concatenated result\n",
        "    concatenated_dict = {}\n",
        "\n",
        "    # Loop through each dictionary in the input\n",
        "    for dictionary in dicts:\n",
        "        # Update the concatenated dictionary with key-value pairs from the current dictionary\n",
        "        concatenated_dict.update(dictionary)\n",
        "\n",
        "    return concatenated_dict\n",
        "\n",
        "# use this function with user input\n",
        "dict1_input = input(\"Enter key-value pairs for first dictionary (format 'key1:value1, key2:value2'): \")\n",
        "dict2_input = input(\"Enter key-value pairs for second dictionary (format 'key1:value1, key2:value2'): \")\n",
        "dict3_input = input(\"Enter key-value pairs for third dictionary (format 'key1:value1, key2:value2'): \")\n",
        "\n",
        "# Convert the input strings to dictionaries\n",
        "dict1 = dict((int(k), int(v)) for k, v in (item.split(':') for item in dict1_input.split(', ')))\n",
        "dict2 = dict((int(k), int(v)) for k, v in (item.split(':') for item in dict2_input.split(', ')))\n",
        "dict3 = dict((int(k), int(v)) for k, v in (item.split(':') for item in dict3_input.split(', ')))\n",
        "\n",
        "# Concatenate the dictionaries and print the result\n",
        "concatenated_result = concatenate_dictionaries(dict1, dict2, dict3)\n",
        "print(\"Concatenated Dictionary:\", concatenated_result)\n",
        "\n"
      ]
    },
    {
      "cell_type": "markdown",
      "source": [
        "(11) Design a Python function that takes a tuple of integers as input and returns the largest and smallest elements."
      ],
      "metadata": {
        "id": "bkyZ2xSZUOst"
      }
    },
    {
      "cell_type": "code",
      "source": [
        "def find_largest_smallest(numbers_tuple):\n",
        "\n",
        "    # If the tuple is empty, return None for both smallest and largest\n",
        "    if not numbers_tuple:\n",
        "        return None, None\n",
        "\n",
        "    # Initialize smallest and largest with the first element of the tuple\n",
        "    smallest = largest = numbers_tuple[0]\n",
        "\n",
        "    # Iterate through each number in the tuple\n",
        "    for number in numbers_tuple:\n",
        "        # Update smallest if the current number is smaller\n",
        "        if number < smallest:\n",
        "            smallest = number\n",
        "        # Update largest if the current number is larger\n",
        "        if number > largest:\n",
        "            largest = number\n",
        "\n",
        "    # Return the smallest and largest numbers\n",
        "    return smallest, largest\n",
        "\n",
        "# user input and use the function\n",
        "user_input = input(\"Enter a series of integers separated by commas: \")\n",
        "# Convert the input string to a tuple of integers\n",
        "user_tuple = tuple(map(int, user_input.split(',')))\n",
        "# Find the smallest and largest numbers\n",
        "smallest, largest = find_largest_smallest(user_tuple)\n",
        "#Print the results\n",
        "print(f\"The smallest number is {smallest} and the largest number is {largest}.\")\n"
      ],
      "metadata": {
        "id": "3FdLRBKOUQEd",
        "colab": {
          "base_uri": "https://localhost:8080/"
        },
        "outputId": "306c0934-b760-41d0-db40-8dd9b9c652ba"
      },
      "execution_count": 30,
      "outputs": [
        {
          "output_type": "stream",
          "name": "stdout",
          "text": [
            "Enter a series of integers separated by commas: 1,22,34,56,99,87,25\n",
            "The smallest number is 1 and the largest number is 99.\n"
          ]
        }
      ]
    },
    {
      "cell_type": "markdown",
      "source": [
        "(12) Write a Python program that counts the frequency of each character in a given string and stores it in a dictionary."
      ],
      "metadata": {
        "id": "O0TVi3gKUTpp"
      }
    },
    {
      "cell_type": "code",
      "source": [
        "def character_frequency(s):\n",
        "\n",
        "    # Initialize an empty dictionary to store character frequencies\n",
        "    frequency_dict = {}\n",
        "\n",
        "    # Iterate through each character in the string\n",
        "    for char in s:\n",
        "        # If the character is already in the dictionary, increment its count\n",
        "        if char in frequency_dict:\n",
        "            frequency_dict[char] += 1\n",
        "        # If the character is not in the dictionary, add it with a count of 1\n",
        "        else:\n",
        "            frequency_dict[char] = 1\n",
        "\n",
        "    # Return the dictionary with character frequencies\n",
        "    return frequency_dict\n",
        "\n",
        "# Uncomment the following lines to take user input and use the function\n",
        "user_input = input(\"Enter a string to count character frequency: \")\n",
        "# Calculate the frequency of each character in the input string\n",
        "frequency_result = character_frequency(user_input)\n",
        "# Print the dictionary with character frequencies\n",
        "print(\"Character Frequencies:\", frequency_result)\n"
      ],
      "metadata": {
        "id": "lAtfSfZXUU-h",
        "colab": {
          "base_uri": "https://localhost:8080/"
        },
        "outputId": "20b90918-f505-4fa3-832c-81495fa4786c"
      },
      "execution_count": 31,
      "outputs": [
        {
          "output_type": "stream",
          "name": "stdout",
          "text": [
            "Enter a string to count character frequency: BANANA\n",
            "Character Frequencies: {'B': 1, 'A': 3, 'N': 2}\n"
          ]
        }
      ]
    },
    {
      "cell_type": "markdown",
      "metadata": {
        "id": "0v48Vqa7FrQh"
      },
      "source": [
        "(13) Implement a Python script to identify duplicate elements in a provided array of integers. Return -1 if there are no duplicates."
      ]
    },
    {
      "cell_type": "code",
      "execution_count": 32,
      "metadata": {
        "id": "7WEmgq-DF2P1",
        "colab": {
          "base_uri": "https://localhost:8080/"
        },
        "outputId": "a4938aea-c8a8-4981-d420-cceb390bfeae"
      },
      "outputs": [
        {
          "output_type": "stream",
          "name": "stdout",
          "text": [
            "Enter a list of integers separated by commas: 1,-1,22,33,22,6,7,8,8,9,10\n",
            "Duplicates: [22, 8]\n"
          ]
        }
      ],
      "source": [
        "def find_duplicates(arr):\n",
        "\n",
        "    # Initialize an empty set to keep track of unique elements\n",
        "    seen = set()\n",
        "\n",
        "    # Initialize an empty list to store duplicate elements\n",
        "    duplicates = []\n",
        "\n",
        "    # Iterate through each element in the array\n",
        "    for number in arr:\n",
        "        # If the number is in 'seen', it's a duplicate\n",
        "        if number in seen:\n",
        "            # Add to duplicates list if not already added\n",
        "            if number not in duplicates:\n",
        "                duplicates.append(number)\n",
        "        else:\n",
        "            # Add the number to 'seen' set as it's seen for the first time\n",
        "            seen.add(number)\n",
        "\n",
        "    # Return the duplicates list or -1 if no duplicates are found\n",
        "    return duplicates if duplicates else -1\n",
        "\n",
        "# user input and use the function\n",
        "user_input = input(\"Enter a list of integers : \")\n",
        "#Convert the input string to a list of integers\n",
        "user_array = list(map(int, user_input.split(',')))\n",
        "# Find duplicates in the user-provided array\n",
        "duplicate_result = find_duplicates(user_array)\n",
        "# Print the result\n",
        "print(\"Duplicates:\" if duplicate_result != -1 else \"No duplicates found,\", duplicate_result)\n"
      ]
    },
    {
      "cell_type": "markdown",
      "metadata": {
        "id": "vD5PYLMuGga_"
      },
      "source": [
        "(14) Write a Python script to find the common elements between two lists."
      ]
    },
    {
      "cell_type": "code",
      "execution_count": 34,
      "metadata": {
        "id": "t0D5kdJUGjjw",
        "colab": {
          "base_uri": "https://localhost:8080/"
        },
        "outputId": "dfe62c3d-a6ac-4ac8-ba4d-190adb366b10"
      },
      "outputs": [
        {
          "output_type": "stream",
          "name": "stdout",
          "text": [
            "Enter elements of the first list separated by commas: 1,22,33,44,55,6,7,8\n",
            "Enter elements of the second list separated by commas: 1,45,39,0,77\n",
            "Common elements: ['1']\n"
          ]
        }
      ],
      "source": [
        "def find_common_elements(list1, list2):\n",
        "\n",
        "    # Convert both lists to sets for efficient comparison\n",
        "    set1 = set(list1)\n",
        "    set2 = set(list2)\n",
        "\n",
        "    # Use set intersection to find common elements\n",
        "    common_elements = set1.intersection(set2)\n",
        "\n",
        "    # Return the common elements as a list\n",
        "    return list(common_elements)\n",
        "\n",
        "#this function with user input\n",
        "user_input1 = input(\"Enter elements of the first list separated by commas: \")\n",
        "user_input2 = input(\"Enter elements of the second list separated by commas: \")\n",
        "\n",
        "# Convert the user inputs from strings to lists\n",
        "list1 = user_input1.split(',')\n",
        "list2 = user_input2.split(',')\n",
        "\n",
        "# Find and print the common elements\n",
        "common = find_common_elements(list1, list2)\n",
        "print(\"Common elements:\", common)\n"
      ]
    },
    {
      "cell_type": "markdown",
      "metadata": {
        "id": "uHkd-y5VhVWC"
      },
      "source": [
        "(15) Write a Python program to randomly divide the students in this class into six groups for term projects, each group should have at least 4 students but no more than 6 students (including 6).\n",
        "\n",
        "Here is the students list:\n",
        "\n",
        "student_list_spring_2024=[rb0846,\n",
        "ac1964,\n",
        "hc0612,\n",
        "md0912,\n",
        "ad1198,\n",
        "md0894,\n",
        "md0825,\n",
        "vg0598,\n",
        "vg0433,\n",
        "mh1068,\n",
        "yj0173,\n",
        "pk0553,\n",
        "tk0411,\n",
        "srk0204,\n",
        "sk2922,\n",
        "sk2936,\n",
        "mk1302,\n",
        "mk1317,\n",
        "tk0412,\n",
        "vk0656,\n",
        "sm2985,\n",
        "mm2372,\n",
        "un0045,\n",
        "an0892,\n",
        "sn0913,\n",
        "gp0252,\n",
        "ap1484,\n",
        "mr1765,\n",
        "sr1385,\n",
        "sr1335,\n",
        "hs0665,\n",
        "ms2060,\n",
        "gt0217,\n",
        "nt0385,\n",
        "tv0186,\n",
        "sv1394,\n",
        "sv1752,\n",
        "sv1555,\n",
        "sy0594\n",
        "]\n"
      ]
    },
    {
      "cell_type": "code",
      "execution_count": 36,
      "metadata": {
        "id": "3iGbmcOBhTwy",
        "colab": {
          "base_uri": "https://localhost:8080/"
        },
        "outputId": "b6c980ae-c9b1-4b13-f9c2-db6848ff0895"
      },
      "outputs": [
        {
          "output_type": "stream",
          "name": "stdout",
          "text": [
            "Group 1: ['sr1335', 'md0825', 'vg0433', 'mm2372', 'srk0204', 'nt0385', 'ap1484']\n",
            "Group 2: ['sv1394', 'an0892', 'gt0217', 'tv0186', 'hs0665', 'sk2922', 'tk0412']\n",
            "Group 3: ['ad1198', 'sv1555', 'mh1068', 'mk1317', 'hc0612', 'vk0656', 'rb0846']\n",
            "Group 4: ['vg0598', 'gp0252', 'md0894', 'pk0553', 'yj0173', 'tk0411']\n",
            "Group 5: ['sk2936', 'sv1752', 'un0045', 'sy0594', 'ms2060', 'ac1964']\n",
            "Group 6: ['mr1765', 'mk1302', 'sr1385', 'md0912', 'sn0913', 'sm2985']\n"
          ]
        }
      ],
      "source": [
        "import random\n",
        "\n",
        "def divide_into_groups(student_list, max_groups=6):\n",
        "    \"\"\"\n",
        "    Randomly divide students into a specified number of groups,\n",
        "    each group having at least 4 students but no more than 6 students.\n",
        "\n",
        "    :param student_list: List of student identifiers.\n",
        "    :param max_groups: Maximum number of groups to divide the students into.\n",
        "    :return: List of groups, each group being a list of student identifiers.\n",
        "    \"\"\"\n",
        "    # Shuffle the student list to ensure randomness\n",
        "    random.shuffle(student_list)\n",
        "\n",
        "    # Initialize an empty list to store the groups\n",
        "    groups = []\n",
        "\n",
        "    # Calculate average group size to evenly distribute students\n",
        "    avg_size = len(student_list) // max_groups\n",
        "    remainder = len(student_list) % max_groups\n",
        "\n",
        "    # Distribute students into groups\n",
        "    start = 0\n",
        "    for _ in range(max_groups):\n",
        "        # Adjust group size for the remainder\n",
        "        group_size = avg_size + (1 if remainder > 0 else 0)\n",
        "        remainder -= 1\n",
        "\n",
        "        # Form a group and add to the list of groups\n",
        "        group = student_list[start:start + group_size]\n",
        "        groups.append(group)\n",
        "\n",
        "        # Update the start index for the next group\n",
        "        start += group_size\n",
        "\n",
        "    return groups\n",
        "\n",
        "# List of students\n",
        "student_list_spring_2024 = [\"rb0846\", \"ac1964\", \"hc0612\", \"md0912\", \"ad1198\", \"md0894\", \"md0825\", \"vg0598\",\n",
        "                            \"vg0433\", \"mh1068\", \"yj0173\", \"pk0553\", \"tk0411\", \"srk0204\", \"sk2922\", \"sk2936\",\n",
        "                            \"mk1302\", \"mk1317\", \"tk0412\", \"vk0656\", \"sm2985\", \"mm2372\", \"un0045\", \"an0892\",\n",
        "                            \"sn0913\", \"gp0252\", \"ap1484\", \"mr1765\", \"sr1385\", \"sr1335\", \"hs0665\", \"ms2060\",\n",
        "                            \"gt0217\", \"nt0385\", \"tv0186\", \"sv1394\", \"sv1752\", \"sv1555\", \"sy0594\"]\n",
        "\n",
        "# Divide the students into groups\n",
        "groups = divide_into_groups(student_list_spring_2024)\n",
        "\n",
        "# Print the groups\n",
        "for i, group in enumerate(groups, 1):\n",
        "    print(f\"Group {i}: {group}\")\n"
      ]
    },
    {
      "cell_type": "markdown",
      "metadata": {
        "id": "fmZ9vX20Qs3d"
      },
      "source": [
        "(16) Create a program that takes a positive integer 'n' as input and prints the count of even numbers from 1 to 'n'. Optimize the loop using the break statement."
      ]
    },
    {
      "cell_type": "code",
      "execution_count": 37,
      "metadata": {
        "id": "W8Jw6sWMQs3d",
        "colab": {
          "base_uri": "https://localhost:8080/"
        },
        "outputId": "4345429d-28c7-4218-da61-8a14c22590fe"
      },
      "outputs": [
        {
          "output_type": "stream",
          "name": "stdout",
          "text": [
            "Enter a positive integer: 8\n",
            "Count of even numbers from 1 to 8: 4\n"
          ]
        }
      ],
      "source": [
        "def count_even_numbers(n):\n",
        "\n",
        "    # Initialize count of even numbers\n",
        "    count = 0\n",
        "\n",
        "    # Loop through numbers from 1 to n\n",
        "    for number in range(1, n + 1):\n",
        "        # Check if the number is even\n",
        "        if number % 2 == 0:\n",
        "            count += 1\n",
        "        # Break the loop if the number is equal to n\n",
        "        if number == n:\n",
        "            break\n",
        "\n",
        "    # Return the count of even numbers\n",
        "    return count\n",
        "\n",
        "# use the function with user input\n",
        "user_input = int(input(\"Enter a positive integer: \"))\n",
        "even_count = count_even_numbers(user_input)\n",
        "print(f\"Count of even numbers from 1 to {user_input}: {even_count}\")\n"
      ]
    },
    {
      "cell_type": "markdown",
      "metadata": {
        "id": "hvq4APMhQs3d"
      },
      "source": [
        "(17) Develop a Python function called 'count_vowels' that takes a string as input and returns the count of vowels (both lowercase and uppercase) present in the string, ignoring spaces and non-alphabetic characters."
      ]
    },
    {
      "cell_type": "code",
      "execution_count": 38,
      "metadata": {
        "id": "ZnoxhSglQs3d",
        "colab": {
          "base_uri": "https://localhost:8080/"
        },
        "outputId": "a74b1890-f387-454a-c847-c80e032be668"
      },
      "outputs": [
        {
          "output_type": "stream",
          "name": "stdout",
          "text": [
            "Enter a string: HELLO WORLD\n",
            "Number of vowels in the string: 3\n"
          ]
        }
      ],
      "source": [
        "def count_vowels(input_string):\n",
        "\n",
        "    # Define the set of vowels (both lowercase and uppercase)\n",
        "    vowels = set(\"aeiouAEIOU\")\n",
        "\n",
        "    # Initialize the count of vowels\n",
        "    vowel_count = 0\n",
        "\n",
        "    # Iterate through each character in the string\n",
        "    for char in input_string:\n",
        "        # Check if the character is a vowel\n",
        "        if char in vowels:\n",
        "            vowel_count += 1\n",
        "\n",
        "    # Return the total count of vowels\n",
        "    return vowel_count\n",
        "\n",
        "#  the function with user input\n",
        "user_input = input(\"Enter a string: \")\n",
        "# Calculate the number of vowels in the input string\n",
        "count = count_vowels(user_input)\n",
        "# Print the result\n",
        "print(f\"Number of vowels in the string: {count}\")\n"
      ]
    },
    {
      "cell_type": "markdown",
      "source": [
        "(18) Create a custom exception named ValueTooSmallError in Python. Write a program that takes user input for an age, and if the entered age is less than 18, raise the ValueTooSmallError with an appropriate error message."
      ],
      "metadata": {
        "id": "55FWoSJPVVM6"
      }
    },
    {
      "cell_type": "code",
      "source": [
        "class ValueTooSmallError(Exception):\n",
        "    \"\"\"Exception raised when the input value is too small.\"\"\"\n",
        "    pass\n",
        "\n",
        "def check_age(age):\n",
        "    \"\"\"\n",
        "    Check if the given age is 18 or above.\n",
        "\n",
        "    :param age: Integer, the age to check.\n",
        "    :raises ValueTooSmallError: If the age is less than 18.\n",
        "    \"\"\"\n",
        "    if age < 18:\n",
        "        # Raise the custom exception with an error message\n",
        "        raise ValueTooSmallError(\"Age is less than 18. Access denied.\")\n",
        "\n",
        "# Ensure the following lines are run together as a complete block\n",
        "try:\n",
        "    user_input = int(input(\"Enter your age: \"))  # Uncomment this line for user input\n",
        "    check_age(user_input)\n",
        "    print(\"Age is 18 or above. Access granted.\")\n",
        "except ValueTooSmallError as e:\n",
        "    print(e)\n"
      ],
      "metadata": {
        "id": "hwtr1wZmVX5A",
        "colab": {
          "base_uri": "https://localhost:8080/"
        },
        "outputId": "df6c992e-815c-4f3a-eba7-e42971f3ea1f"
      },
      "execution_count": 44,
      "outputs": [
        {
          "output_type": "stream",
          "name": "stdout",
          "text": [
            "Enter your age: 24\n",
            "Age is 18 or above. Access granted.\n"
          ]
        }
      ]
    },
    {
      "cell_type": "markdown",
      "source": [
        "(19) Develop a script that reverses a given string without using built-in reverse functions."
      ],
      "metadata": {
        "id": "Q9ecagcaVazW"
      }
    },
    {
      "cell_type": "code",
      "source": [
        "def reverse_string(input_string):\n",
        "\n",
        "    # Initialize an empty string to store the reversed string\n",
        "    reversed_string = \"\"\n",
        "\n",
        "    # Iterate over the string in reverse order\n",
        "    for char in input_string[::-1]:\n",
        "        # Append each character to the reversed_string\n",
        "        reversed_string += char\n",
        "\n",
        "    # Return the reversed string\n",
        "    return reversed_string\n",
        "\n",
        "# Uncomment the following line to use the function with user input\n",
        "user_input = input(\"Enter a string to reverse: \")\n",
        "# Reverse the input string\n",
        "reversed_str = reverse_string(user_input)\n",
        "# Print the reversed string\n",
        "print(\"Reversed String:\", reversed_str)\n"
      ],
      "metadata": {
        "id": "gycgckoAVZjR",
        "colab": {
          "base_uri": "https://localhost:8080/"
        },
        "outputId": "c72eeca6-c4da-4e75-c909-19743427d3f4"
      },
      "execution_count": 45,
      "outputs": [
        {
          "output_type": "stream",
          "name": "stdout",
          "text": [
            "Enter a string to reverse: ELEPHANT\n",
            "Reversed String: TNAHPELE\n"
          ]
        }
      ]
    },
    {
      "cell_type": "markdown",
      "source": [
        "(20) Implement a Python script to generate a random password of a specified length."
      ],
      "metadata": {
        "id": "ZFG6RibifMLu"
      }
    },
    {
      "cell_type": "code",
      "source": [
        "import random\n",
        "import string\n",
        "\n",
        "def generate_random_password(length):\n",
        "\n",
        "    # Define the possible characters for the password: letters, digits, and punctuation\n",
        "    characters = string.ascii_letters + string.digits + string.punctuation\n",
        "\n",
        "    # Randomly select characters from the characters string and form a password\n",
        "    password = ''.join(random.choice(characters) for i in range(length))\n",
        "\n",
        "    # Return the generated password\n",
        "    return password\n",
        "\n",
        "# use the function with user input\n",
        "password_length = int(input(\"Enter the desired length of the password: \"))\n",
        "# Generate the random password\n",
        "random_password = generate_random_password(password_length)\n",
        "# Print the generated password\n",
        "print(\"Generated Password:\", random_password)\n"
      ],
      "metadata": {
        "id": "BFVrkEi9fNiD",
        "colab": {
          "base_uri": "https://localhost:8080/"
        },
        "outputId": "49047f17-a227-46af-f035-c32ba69179d1"
      },
      "execution_count": 46,
      "outputs": [
        {
          "output_type": "stream",
          "name": "stdout",
          "text": [
            "Enter the desired length of the password: 11\n",
            "Generated Password: p1Uq-cadK?k\n"
          ]
        }
      ]
    },
    {
      "cell_type": "markdown",
      "source": [
        "# Try these questions:"
      ],
      "metadata": {
        "id": "6SmvS7nSfbj8"
      }
    },
    {
      "cell_type": "markdown",
      "source": [
        "(21) Define a base class called 'Vehicle' with attributes make and model. Create a derived class Car that inherits from Vehicle and has an additional attribute 'num_doors'. Demonstrate an example of creating an instance of the 'Car' class and accessing its attributes."
      ],
      "metadata": {
        "id": "cboAr5pEWUf5"
      }
    },
    {
      "cell_type": "code",
      "source": [
        "class Vehicle:\n",
        "\n",
        "    def __init__(self, make, model):\n",
        "        self.make = make  # Make of the vehicle\n",
        "        self.model = model  # Model of the vehicle\n",
        "\n",
        "class Car(Vehicle):\n",
        "\n",
        "    def __init__(self, make, model, num_doors):\n",
        "        # Initialize attributes from the base class\n",
        "        super().__init__(make, model)\n",
        "        # Additional attribute for Car\n",
        "        self.num_doors = num_doors  # Number of doors in the car\n",
        "\n",
        "# create an instance of Car using user input\n",
        "make_input = input(\"Enter the make of the car: \")\n",
        "model_input = input(\"Enter the model of the car: \")\n",
        "num_doors_input = int(input(\"Enter the number of doors in the car: \"))\n",
        "\n",
        "# Create an instance of the Car class\n",
        "my_car = Car(make_input, model_input, num_doors_input)\n",
        "\n",
        "#Print the attributes of the created car\n",
        "print(f\"Car Make: {my_car.make}, Model: {my_car.model}, Number of Doors: {my_car.num_doors}\")\n"
      ],
      "metadata": {
        "id": "phs9gciMWWAW",
        "colab": {
          "base_uri": "https://localhost:8080/"
        },
        "outputId": "f9d1dbf6-eb8f-4456-e247-ce6d6b64c3a3"
      },
      "execution_count": 47,
      "outputs": [
        {
          "output_type": "stream",
          "name": "stdout",
          "text": [
            "Enter the make of the car: FORD\n",
            "Enter the model of the car: Explorer\n",
            "Enter the number of doors in the car: 4\n",
            "Car Make: FORD, Model: Explorer, Number of Doors: 4\n"
          ]
        }
      ]
    },
    {
      "cell_type": "markdown",
      "source": [
        "(22) Create a class called 'Shape' with a method calculate_area(). Implement two derived classes 'Circle' and 'Rectangle' that inherit from Shape and override the calculate_area() method. Demonstrate polymorphism by creating instances of both derived classes and calling the calculate_area() method."
      ],
      "metadata": {
        "id": "J8HHefNtePwd"
      }
    },
    {
      "cell_type": "code",
      "source": [
        "class Shape:\n",
        "    \"\"\"\n",
        "    Base class for different shapes.\n",
        "    \"\"\"\n",
        "    def calculate_area(self):\n",
        "        \"\"\"\n",
        "        Method to calculate the area of the shape.\n",
        "        To be overridden in derived classes.\n",
        "        \"\"\"\n",
        "        pass\n",
        "\n",
        "class Circle(Shape):\n",
        "    \"\"\"\n",
        "    Derived class representing a circle.\n",
        "    \"\"\"\n",
        "    def __init__(self, radius):\n",
        "        self.radius = radius  # Radius of the circle\n",
        "\n",
        "    def calculate_area(self):\n",
        "        # Area of a circle = π * r^2\n",
        "        return 3.14159 * self.radius ** 2\n",
        "\n",
        "class Rectangle(Shape):\n",
        "    \"\"\"\n",
        "    Derived class representing a rectangle.\n",
        "    \"\"\"\n",
        "    def __init__(self, length, width):\n",
        "        self.length = length  # Length of the rectangle\n",
        "        self.width = width  # Width of the rectangle\n",
        "\n",
        "    def calculate_area(self):\n",
        "        # Area of a rectangle = length * width\n",
        "        return self.length * self.width\n",
        "\n",
        "# Creating instances of Circle and Rectangle\n",
        "circle = Circle(5)  # Circle with radius 5\n",
        "rectangle = Rectangle(10, 20)  # Rectangle with length 10 and width 20\n",
        "\n",
        "# Demonstrating polymorphism by calling calculate_area method\n",
        "print(f\"Area of Circle: {circle.calculate_area()}\")\n",
        "print(f\"Area of Rectangle: {rectangle.calculate_area()}\")\n"
      ],
      "metadata": {
        "id": "btnMmUZDeRhS",
        "colab": {
          "base_uri": "https://localhost:8080/"
        },
        "outputId": "ff784797-a101-4324-c2f2-ed24151d46d4"
      },
      "execution_count": 48,
      "outputs": [
        {
          "output_type": "stream",
          "name": "stdout",
          "text": [
            "Area of Circle: 78.53975\n",
            "Area of Rectangle: 200\n"
          ]
        }
      ]
    },
    {
      "cell_type": "markdown",
      "source": [
        "(23) Write a Python program that prompts the user to enter two numbers and perform a division operation. Handle exceptions for both zero division and invalid input (non-numeric input). Display appropriate error messages for each type of exception and ensure the program does not crash due to these errors."
      ],
      "metadata": {
        "id": "z0oqEAlTeMUS"
      }
    },
    {
      "cell_type": "code",
      "source": [
        "def perform_division():\n",
        "    \"\"\"\n",
        "    Performs division of two user-provided numbers and handles exceptions for\n",
        "    zero division and non-numeric input.\n",
        "    \"\"\"\n",
        "    try:\n",
        "        # Prompt the user for input\n",
        "        numerator = input(\"Enter the numerator: \")\n",
        "        denominator = input(\"Enter the denominator: \")\n",
        "\n",
        "        # Attempt to convert inputs to floats\n",
        "        numerator = float(numerator)\n",
        "        denominator = float(denominator)\n",
        "\n",
        "        # Perform division\n",
        "        result = numerator / denominator\n",
        "\n",
        "        # Display the result\n",
        "        print(f\"The result of division is: {result}\")\n",
        "    except ZeroDivisionError:\n",
        "        # Handle division by zero\n",
        "        print(\"Error: Cannot divide by zero.\")\n",
        "    except ValueError:\n",
        "        # Handle non-numeric input\n",
        "        print(\"Error: Please enter valid numbers.\")\n",
        "\n",
        "# Call the perform_division function to execute the program\n",
        "perform_division()\n",
        "\n"
      ],
      "metadata": {
        "id": "yjdc1zM1eMAs",
        "colab": {
          "base_uri": "https://localhost:8080/"
        },
        "outputId": "c2c46a8f-1776-430c-f4fb-4470451a4074"
      },
      "execution_count": 49,
      "outputs": [
        {
          "output_type": "stream",
          "name": "stdout",
          "text": [
            "Enter the numerator: 27\n",
            "Enter the denominator: 3\n",
            "The result of division is: 9.0\n"
          ]
        }
      ]
    },
    {
      "cell_type": "markdown",
      "source": [
        "# Mandatory Question"
      ],
      "metadata": {
        "id": "sZOhks1dXWEe"
      }
    },
    {
      "cell_type": "markdown",
      "source": [
        "**Important:**\n",
        "Reflecting on the first three lectures and the exercises you've completed, please provide feedback on your learning experience. Share your thoughts on whether the material covered was clear, the exercises were helpful, and if you feel more confident in applying Python programming concepts. Additionally, mention any specific areas where you would like more clarification or topics you would like to explore further in future lectures. Your feedback is valuable in shaping the course for an effective learning journey."
      ],
      "metadata": {
        "id": "eqmHVEwaWhbV"
      }
    },
    {
      "cell_type": "markdown",
      "source": [
        "Write your response here."
      ],
      "metadata": {
        "id": "HlpXOT9wXQAd"
      }
    },
    {
      "cell_type": "code",
      "source": [
        "'''\n",
        "The very first impression on my first class is more informative . Lectures from the Alumni students is more knowledgable .\n",
        "They taught us very useful information and gave us career guidance. Coming to class the course cirriculum is very structured.\n",
        "The python classes are very helpful to brush up previous classes. The excercises are very good to solve starting from basics .\n",
        "This class helped me to work on python more time when compared to other classses. Now im good and confident to solve python problems.\n",
        "I think this course will help me in future .'''"
      ],
      "metadata": {
        "id": "Dq2aOZU7XIke"
      },
      "execution_count": null,
      "outputs": []
    }
  ],
  "metadata": {
    "colab": {
      "provenance": [],
      "include_colab_link": true
    },
    "kernelspec": {
      "display_name": "Python 3 (ipykernel)",
      "language": "python",
      "name": "python3"
    },
    "language_info": {
      "codemirror_mode": {
        "name": "ipython",
        "version": 3
      },
      "file_extension": ".py",
      "mimetype": "text/x-python",
      "name": "python",
      "nbconvert_exporter": "python",
      "pygments_lexer": "ipython3",
      "version": "3.9.12"
    }
  },
  "nbformat": 4,
  "nbformat_minor": 0
}